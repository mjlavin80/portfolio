{
 "cells": [
  {
   "cell_type": "code",
   "execution_count": 24,
   "metadata": {
    "collapsed": false
   },
   "outputs": [
    {
     "ename": "TypeError",
     "evalue": "unsupported operand type(s) for +: 'int' and 'str'",
     "output_type": "error",
     "traceback": [
      "\u001b[0;31m---------------------------------------------------------------------------\u001b[0m",
      "\u001b[0;31mTypeError\u001b[0m                                 Traceback (most recent call last)",
      "\u001b[0;32m<ipython-input-24-0dde4de22d2a>\u001b[0m in \u001b[0;36m<module>\u001b[0;34m()\u001b[0m\n\u001b[1;32m     29\u001b[0m \u001b[1;33m\u001b[0m\u001b[0m\n\u001b[1;32m     30\u001b[0m \u001b[1;32mtry\u001b[0m\u001b[1;33m:\u001b[0m\u001b[1;33m\u001b[0m\u001b[0m\n\u001b[0;32m---> 31\u001b[0;31m     \u001b[0mAttavg\u001b[0m \u001b[1;33m=\u001b[0m  \u001b[0msum\u001b[0m\u001b[1;33m(\u001b[0m\u001b[0mAttractive\u001b[0m\u001b[1;33m[\u001b[0m\u001b[1;36m1\u001b[0m\u001b[1;33m:\u001b[0m\u001b[1;33m]\u001b[0m\u001b[1;33m)\u001b[0m\u001b[1;33m/\u001b[0m\u001b[0mlen\u001b[0m\u001b[1;33m(\u001b[0m\u001b[0mAttractive\u001b[0m\u001b[1;33m[\u001b[0m\u001b[1;36m1\u001b[0m\u001b[1;33m:\u001b[0m\u001b[1;33m]\u001b[0m\u001b[1;33m)\u001b[0m\u001b[1;33m\u001b[0m\u001b[0m\n\u001b[0m\u001b[1;32m     32\u001b[0m \u001b[1;32mexcept\u001b[0m \u001b[0mValueError\u001b[0m\u001b[1;33m:\u001b[0m\u001b[1;33m\u001b[0m\u001b[0m\n\u001b[1;32m     33\u001b[0m     \u001b[0mattractive\u001b[0m \u001b[1;33m=\u001b[0m \u001b[1;34m''\u001b[0m\u001b[1;33m\u001b[0m\u001b[0m\n",
      "\u001b[0;31mTypeError\u001b[0m: unsupported operand type(s) for +: 'int' and 'str'"
     ]
    }
   ],
   "source": [
    "import csv\n",
    "f = open('SpeedDatingData.csv')\n",
    "csv_f = csv.reader(f, delimiter=\",\")\n",
    "\n",
    "Gender = []\n",
    "Attractive = []\n",
    "Sincere = []\n",
    "Intelligent = []\n",
    "Fun = []\n",
    "Ambitious = []\n",
    "SharedInterests = []\n",
    "\n",
    "for row in csv_f:\n",
    "    Gender.append(row[2])\n",
    "    Attractive.append(row[24])\n",
    "    Sincere.append(row[25])\n",
    "    Intelligent.append(row[26])\n",
    "    Fun.append(row[27])\n",
    "    Ambitious.append(row[28])\n",
    "    SharedInterests.append(row[29])\n",
    "    \n",
    "for i in range(len(Attractive[1:])):\n",
    "    try:\n",
    "        Attractive[i+1] = int(Attractive[i+1]) \n",
    "    except ValueError:\n",
    "        attractive = ''\n",
    "\n",
    "\n",
    "\n",
    "try:\n",
    "    Attavg =  sum(Attractive[1:])/len(Attractive[1:])\n",
    "except ValueError: \n",
    "    attractive = ''\n",
    "\n",
    "print(Attavg)"
   ]
  },
  {
   "cell_type": "code",
   "execution_count": 18,
   "metadata": {
    "collapsed": false
   },
   "outputs": [
    {
     "data": {
      "text/html": [
       "<iframe id=\"igraph\" scrolling=\"no\" style=\"border:none;\" seamless=\"seamless\" src=\"https://plot.ly/~eac85/53.embed\" height=\"525px\" width=\"100%\"></iframe>"
      ],
      "text/plain": [
       "<plotly.tools.PlotlyDisplay object>"
      ]
     },
     "execution_count": 18,
     "metadata": {},
     "output_type": "execute_result"
    }
   ],
   "source": [
    "import plotly.plotly as py\n",
    "import plotly.graph_objs as go\n",
    "\n",
    "labels=['Attractive','Sincere','Intelligent','Fun', 'Ambitious', 'Shared Interests']\n",
    "values=[Attractive[1:], Sincere[1:], Intelligent[1:], Fun[1:], Ambitious[1:], SharedInterests[1:]]\n",
    "\n",
    "trace=go.Pie(labels=labels,values=values)\n",
    "\n",
    "py.iplot([trace])"
   ]
  },
  {
   "cell_type": "code",
   "execution_count": 36,
   "metadata": {
    "collapsed": false
   },
   "outputs": [
    {
     "name": "stdout",
     "output_type": "stream",
     "text": [
      "['Law', '27.207', '14.517', '20.31', '19.241', '7.9655', '10.069']\n"
     ]
    }
   ],
   "source": [
    "import csv\n",
    "import plotly.plotly as py\n",
    "import plotly.graph_objs as go\n",
    "\n",
    "\n",
    "f = open('mydata1.csv')\n",
    "csv_f = csv.reader(f, delimiter=\",\")\n",
    "\n",
    "intended_jobs = []\n",
    "law = []\n",
    "academia = []\n",
    "psychology = []\n",
    "medicine = []\n",
    "engineer = []\n",
    "entertainment = []\n",
    "finance = []\n",
    "human_affairs = []\n",
    "undecided = []\n",
    "social_work = []\n",
    "pro_athlete = []\n",
    "tech = []\n",
    "\n",
    "for row in csv_f:\n",
    "    jobs = row[0]\n",
    "    intended_jobs.append(jobs)\n",
    "    law.append(row[1])\n",
    "    academia.append(row[2])\n",
    "    psychology.append(row[3])\n",
    "    medicine.append(row[4])\n",
    "    engineer.append(row[5])\n",
    "    entertainment.append(row[6])\n",
    "    finance.append(row[7])\n",
    "    human_affairs.append(row[8])\n",
    "    undecided.append(row[9])\n",
    "    social_work.append(row[10])\n",
    "    pro_athlete.append(row[11])\n",
    "    tech.append(row[12])\n",
    "    \n",
    "    \n",
    "print(law)"
   ]
  },
  {
   "cell_type": "code",
   "execution_count": 43,
   "metadata": {
    "collapsed": false
   },
   "outputs": [
    {
     "data": {
      "text/html": [
       "<iframe id=\"igraph\" scrolling=\"no\" style=\"border:none;\" seamless=\"seamless\" src=\"https://plot.ly/~eac85/75.embed\" height=\"525px\" width=\"100%\"></iframe>"
      ],
      "text/plain": [
       "<plotly.tools.PlotlyDisplay object>"
      ]
     },
     "execution_count": 43,
     "metadata": {},
     "output_type": "execute_result"
    }
   ],
   "source": [
    "for i in range(len(law[1:])):\n",
    "    law[i+1] = float(law[i+1])\n",
    "\n",
    "lawData = law[1:]\n",
    "#labels=['Attractive','Sincere','Intelligent','Fun', 'Ambitious', 'Shared Interests']\n",
    "labels=[intended_jobs[1:]]\n",
    "values=[27.207, 14.517, 20.31, 19.241, 7.9655, 10.069]\n",
    "trace=go.Pie(labels=labels,values=values)\n",
    "py.iplot([trace])"
   ]
  },
  {
   "cell_type": "code",
   "execution_count": null,
   "metadata": {
    "collapsed": true
   },
   "outputs": [],
   "source": []
  }
 ],
 "metadata": {
  "kernelspec": {
   "display_name": "Python 3",
   "language": "python",
   "name": "python3"
  },
  "language_info": {
   "codemirror_mode": {
    "name": "ipython",
    "version": 3
   },
   "file_extension": ".py",
   "mimetype": "text/x-python",
   "name": "python",
   "nbconvert_exporter": "python",
   "pygments_lexer": "ipython3",
   "version": "3.6.0"
  }
 },
 "nbformat": 4,
 "nbformat_minor": 2
}
