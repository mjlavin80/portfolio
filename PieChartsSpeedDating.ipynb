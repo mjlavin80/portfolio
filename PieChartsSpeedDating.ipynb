{
 "cells": [
  {
   "cell_type": "code",
   "execution_count": 2,
   "metadata": {
    "collapsed": true
   },
   "outputs": [],
   "source": [
    "import pandas as pd\n",
    "df = pd.read_csv('mydata1.csv')\n",
    "from pandas import *"
   ]
  },
  {
   "cell_type": "code",
   "execution_count": 3,
   "metadata": {
    "collapsed": false
   },
   "outputs": [
    {
     "name": "stdout",
     "output_type": "stream",
     "text": [
      "[27.206999999999997, 14.517000000000001, 20.309999999999999, 19.241, 7.9654999999999996, 10.068999999999999]\n"
     ]
    }
   ],
   "source": [
    "law = list(df[\"Law\"])\n",
    "academia = list(df[\"Academia\"])\n",
    "psychology = list(df[\"Psychology\"])\n",
    "medicine = list(df[\"Medicine\"])\n",
    "engineer = list(df[\"Engineer\"])\n",
    "entertainment = list(df[\"Entertainment\"])\n",
    "finance = list(df[\"Finance\"])\n",
    "humanAffairs = list(df[\"Human Affairs\"])\n",
    "undecided =  list(df[\"Undecided\"])\n",
    "socialwork =  list(df[\"Social Work\"])\n",
    "proathlete =  list(df[\"Pro Athlete\"])\n",
    "tech =  list(df[\"Tech\"])\n",
    "\n",
    "\n",
    "\n",
    "\n",
    "print(law)"
   ]
  },
  {
   "cell_type": "code",
   "execution_count": 7,
   "metadata": {
    "collapsed": false
   },
   "outputs": [
    {
     "data": {
      "text/html": [
       "<iframe id=\"igraph\" scrolling=\"no\" style=\"border:none;\" seamless=\"seamless\" src=\"https://plot.ly/~eac85/145.embed\" height=\"525px\" width=\"100%\"></iframe>"
      ],
      "text/plain": [
       "<plotly.tools.PlotlyDisplay object>"
      ]
     },
     "execution_count": 7,
     "metadata": {},
     "output_type": "execute_result"
    }
   ],
   "source": [
    "import plotly.plotly as py\n",
    "import plotly.graph_objs as go\n",
    "\n",
    "\n",
    "fig = {\n",
    "    'data': [\n",
    "                {\n",
    "            'labels': ['Attractive','Sincere','Intelligent','Fun', 'Ambitious', 'Shared Interests'],\n",
    "            'values': [27.206999999999997, 14.517000000000001, 20.309999999999999, 19.241, 7.9654999999999996, 10.068999999999999],\n",
    "            'type': 'pie',\n",
    "            'marker': {'colors': ['#E53935', '#EF5350', '#BDC3C7', '#EF9A9A', '#FFAB91', '#F44336']},\n",
    "            'textinfo': \"label\",\n",
    "            'textposition': \"outside\",\n",
    "            'name': 'Law',\n",
    "            'hoverinfo': \"value+percent\",\n",
    "           \n",
    "                \n",
    "                }],\n",
    "    'layout': {'title': 'Lawyer',\n",
    "              'showlegend': False\n",
    "              } \n",
    "   \n",
    "}\n",
    "             \n",
    "       \n",
    "\n",
    "py.iplot(fig)"
   ]
  },
  {
   "cell_type": "code",
   "execution_count": 8,
   "metadata": {
    "collapsed": false
   },
   "outputs": [
    {
     "data": {
      "text/html": [
       "<iframe id=\"igraph\" scrolling=\"no\" style=\"border:none;\" seamless=\"seamless\" src=\"https://plot.ly/~eac85/147.embed\" height=\"525px\" width=\"100%\"></iframe>"
      ],
      "text/plain": [
       "<plotly.tools.PlotlyDisplay object>"
      ]
     },
     "execution_count": 8,
     "metadata": {},
     "output_type": "execute_result"
    }
   ],
   "source": [
    "\n",
    "fig = {\n",
    "    'data': [\n",
    "                {\n",
    "            'labels': ['Attractive','Sincere','Intelligent','Fun', 'Ambitious', 'Shared Interests'],\n",
    "            'values': [24.905000000000001, 7.8094999999999999, 23.048000000000002, 18.429000000000002, 8.7619000000000007, 8.6189999999999998],\n",
    "            'type': 'pie',\n",
    "            'marker': {'colors': ['#E53935', '#EF5350', '#BDC3C7', '#EF9A9A', '#FFAB91', '#F44336']},\n",
    "                    'textinfo': \"label\",\n",
    "            'textposition': \"outside\",\n",
    "            'name': 'Academia',\n",
    "            'hoverinfo': \"value+percent\",\n",
    "           \n",
    "                \n",
    "                }],\n",
    "    'layout': {'title': 'Academia',\n",
    "              'showlegend': False} \n",
    "   \n",
    "}\n",
    "             \n",
    "       \n",
    "\n",
    "py.iplot(fig)"
   ]
  },
  {
   "cell_type": "code",
   "execution_count": 26,
   "metadata": {
    "collapsed": false
   },
   "outputs": [
    {
     "name": "stdout",
     "output_type": "stream",
     "text": [
      "[17.509, 16.518000000000001, 25.427, 18.317999999999998, 8.9179999999999993, 13.409000000000001]\n"
     ]
    }
   ],
   "source": [
    "print(entertainment)"
   ]
  },
  {
   "cell_type": "code",
   "execution_count": 9,
   "metadata": {
    "collapsed": false
   },
   "outputs": [
    {
     "data": {
      "text/html": [
       "<iframe id=\"igraph\" scrolling=\"no\" style=\"border:none;\" seamless=\"seamless\" src=\"https://plot.ly/~eac85/149.embed\" height=\"525px\" width=\"100%\"></iframe>"
      ],
      "text/plain": [
       "<plotly.tools.PlotlyDisplay object>"
      ]
     },
     "execution_count": 9,
     "metadata": {},
     "output_type": "execute_result"
    }
   ],
   "source": [
    "fig = {\n",
    "    'data': [\n",
    "                {\n",
    "            'labels': ['Attractive','Sincere','Intelligent','Fun', 'Ambitious', 'Shared Interests'],\n",
    "            'values': [15.667, 15.667, 29.0, 15.667, 14.0, 10.0],\n",
    "            'type': 'pie',\n",
    "            'marker': {'colors': ['#E53935', '#EF5350', '#BDC3C7', '#EF9A9A', '#FFAB91', '#F44336']},\n",
    "            'textinfo': \"label\",\n",
    "            'textposition': \"outside\",\n",
    "            'name': 'Psychology',\n",
    "            'hoverinfo': \"value+percent\",\n",
    "           \n",
    "                \n",
    "                }],\n",
    "    'layout': {'title': 'Psychology',\n",
    "              'showlegend': False} \n",
    "   \n",
    "}\n",
    "             \n",
    "py.iplot(fig)"
   ]
  },
  {
   "cell_type": "code",
   "execution_count": 10,
   "metadata": {
    "collapsed": false
   },
   "outputs": [
    {
     "data": {
      "text/html": [
       "<iframe id=\"igraph\" scrolling=\"no\" style=\"border:none;\" seamless=\"seamless\" src=\"https://plot.ly/~eac85/151.embed\" height=\"525px\" width=\"100%\"></iframe>"
      ],
      "text/plain": [
       "<plotly.tools.PlotlyDisplay object>"
      ]
     },
     "execution_count": 10,
     "metadata": {},
     "output_type": "execute_result"
    }
   ],
   "source": [
    "fig = {\n",
    "    'data': [\n",
    "                {\n",
    "            'labels': ['Attractive','Sincere','Intelligent','Fun', 'Ambitious', 'Shared Interests'],\n",
    "            'values': [30.833000000000002, 22.5, 20.833000000000002, 10.0, 7.0, 8.8330000000000002],\n",
    "            'type': 'pie',\n",
    "            'marker': {'colors': ['#E53935', '#EF5350', '#BDC3C7', '#EF9A9A', '#FFAB91', '#F44336']},\n",
    "            'textinfo': \"label\",\n",
    "            'textposition': \"outside\",\n",
    "            'name': 'Medicine',\n",
    "            'hoverinfo': \"value+percent\",\n",
    "           \n",
    "                \n",
    "                }],\n",
    "    'layout': {'title': 'Medicine',\n",
    "              'showlegend': False} \n",
    "   \n",
    "}\n",
    "             \n",
    "       \n",
    "\n",
    "py.iplot(fig)"
   ]
  },
  {
   "cell_type": "code",
   "execution_count": 11,
   "metadata": {
    "collapsed": false
   },
   "outputs": [
    {
     "data": {
      "text/html": [
       "<iframe id=\"igraph\" scrolling=\"no\" style=\"border:none;\" seamless=\"seamless\" src=\"https://plot.ly/~eac85/153.embed\" height=\"525px\" width=\"100%\"></iframe>"
      ],
      "text/plain": [
       "<plotly.tools.PlotlyDisplay object>"
      ]
     },
     "execution_count": 11,
     "metadata": {},
     "output_type": "execute_result"
    }
   ],
   "source": [
    "fig = {\n",
    "    'data': [\n",
    "                {\n",
    "            'labels': ['Attractive','Sincere','Intelligent','Fun', 'Ambitious', 'Shared Interests'],\n",
    "            'values': [17.509, 16.518000000000001, 25.427, 18.317999999999998, 8.9179999999999993, 13.409000000000001],\n",
    "            'type': 'pie',\n",
    "            'marker': {'colors': ['#E53935', '#EF5350', '#BDC3C7', '#EF9A9A', '#FFAB91', '#F44336']},\n",
    "            'textinfo': \"label\",\n",
    "            'textposition': \"outside\",\n",
    "                    'name': 'Entertainment',\n",
    "            'hoverinfo': \"value+percent\",\n",
    "           \n",
    "                \n",
    "                }],\n",
    "    'layout': {'title': 'Entertainment',\n",
    "              'showlegend': False} \n",
    "   \n",
    "}\n",
    "             \n",
    "       \n",
    "\n",
    "py.iplot(fig)"
   ]
  },
  {
   "cell_type": "code",
   "execution_count": 12,
   "metadata": {
    "collapsed": false
   },
   "outputs": [
    {
     "data": {
      "text/html": [
       "<iframe id=\"igraph\" scrolling=\"no\" style=\"border:none;\" seamless=\"seamless\" src=\"https://plot.ly/~eac85/155.embed\" height=\"525px\" width=\"100%\"></iframe>"
      ],
      "text/plain": [
       "<plotly.tools.PlotlyDisplay object>"
      ]
     },
     "execution_count": 12,
     "metadata": {},
     "output_type": "execute_result"
    }
   ],
   "source": [
    "fig = {\n",
    "    'data': [\n",
    "                {\n",
    "            'labels': ['Attractive','Sincere','Intelligent','Fun', 'Ambitious', 'Shared Interests'],\n",
    "            'values': [30.666999999999998, 14.504000000000001, 20.811999999999998, 18.317999999999998, 9.6196000000000002, 10.624000000000001]\n",
    ",\n",
    "            'type': 'pie',\n",
    "            'marker': {'colors': ['#E53935', '#EF5350', '#BDC3C7', '#EF9A9A', '#FFAB91', '#F44336']},\n",
    "            'textinfo': \"label\",\n",
    "            'textposition': \"outside\",\n",
    "               'name': 'Finance',\n",
    "            'hoverinfo': \"value+percent\",\n",
    "                \n",
    "                }],\n",
    "    'layout': {'title': 'Finance',\n",
    "              'showlegend': False} \n",
    "   \n",
    "}\n",
    "             \n",
    "       \n",
    "\n",
    "py.iplot(fig)"
   ]
  },
  {
   "cell_type": "code",
   "execution_count": 38,
   "metadata": {
    "collapsed": false
   },
   "outputs": [
    {
     "name": "stdout",
     "output_type": "stream",
     "text": [
      "[16.077000000000002, 18.077000000000002, 18.769000000000002, 18.462, 15.538, 13.077]\n"
     ]
    }
   ],
   "source": [
    "print(humanAffairs)"
   ]
  },
  {
   "cell_type": "code",
   "execution_count": 13,
   "metadata": {
    "collapsed": false
   },
   "outputs": [
    {
     "data": {
      "text/html": [
       "<iframe id=\"igraph\" scrolling=\"no\" style=\"border:none;\" seamless=\"seamless\" src=\"https://plot.ly/~eac85/157.embed\" height=\"525px\" width=\"100%\"></iframe>"
      ],
      "text/plain": [
       "<plotly.tools.PlotlyDisplay object>"
      ]
     },
     "execution_count": 13,
     "metadata": {},
     "output_type": "execute_result"
    }
   ],
   "source": [
    "fig = {\n",
    "    'data': [\n",
    "                {\n",
    "            'labels': ['Attractive','Sincere','Intelligent','Fun', 'Ambitious', 'Shared Interests'],\n",
    "            'values': [13.333, 20.0, 20.0, 18.332999999999998, 15.0, 13.333],\n",
    "            'type': 'pie',\n",
    "            'marker': {'colors': ['#E53935', '#EF5350', '#BDC3C7', '#EF9A9A', '#FFAB91', '#F44336']},\n",
    "            'textinfo': \"label\",\n",
    "            'textposition': \"outside\",\n",
    "                    'name': 'Social Work',\n",
    "            'hoverinfo': \"value+percent\",\n",
    "           \n",
    "                \n",
    "                }],\n",
    "    'layout': {'title': 'Social Work',\n",
    "              'showlegend': False} \n",
    "   \n",
    "}\n",
    "             \n",
    "       \n",
    "\n",
    "py.iplot(fig)"
   ]
  },
  {
   "cell_type": "code",
   "execution_count": 16,
   "metadata": {
    "collapsed": false
   },
   "outputs": [
    {
     "data": {
      "text/html": [
       "<iframe id=\"igraph\" scrolling=\"no\" style=\"border:none;\" seamless=\"seamless\" src=\"https://plot.ly/~eac85/161.embed\" height=\"525px\" width=\"100%\"></iframe>"
      ],
      "text/plain": [
       "<plotly.tools.PlotlyDisplay object>"
      ]
     },
     "execution_count": 16,
     "metadata": {},
     "output_type": "execute_result"
    }
   ],
   "source": [
    "fig = {\n",
    "    'data': [\n",
    "                {\n",
    "            'labels': ['Attractive','Sincere','Intelligent','Fun', 'Ambitious', 'Shared Interests'],\n",
    "            'values': [23.856999999999999, 14.857000000000001, 23.285999999999998, 21.5, 11.833, 11.0],\n",
    "            'type': 'pie',\n",
    "            'marker': {'colors': ['#E53935', '#EF5350', '#BDC3C7', '#EF9A9A', '#FFAB91', '#F44336']},\n",
    "            'textinfo': \"label\",\n",
    "            'textposition': \"outside\",\n",
    "            'name': 'Undecided',\n",
    "            'hoverinfo': \"value+percent\",\n",
    "                \n",
    "                }],\n",
    "    'layout': {'title': 'Undecided',\n",
    "              'showlegend': False} \n",
    "   \n",
    "}\n",
    "             \n",
    "       \n",
    "\n",
    "py.iplot(fig)"
   ]
  },
  {
   "cell_type": "code",
   "execution_count": 17,
   "metadata": {
    "collapsed": false
   },
   "outputs": [
    {
     "data": {
      "text/html": [
       "<iframe id=\"igraph\" scrolling=\"no\" style=\"border:none;\" seamless=\"seamless\" src=\"https://plot.ly/~eac85/163.embed\" height=\"525px\" width=\"100%\"></iframe>"
      ],
      "text/plain": [
       "<plotly.tools.PlotlyDisplay object>"
      ]
     },
     "execution_count": 17,
     "metadata": {},
     "output_type": "execute_result"
    }
   ],
   "source": [
    "fig = {\n",
    "    'data': [\n",
    "                {\n",
    "            'labels': ['Attractive','Sincere','Intelligent','Fun', 'Ambitious', 'Shared Interests'],\n",
    "            'values': [16.077000000000002, 18.077000000000002, 18.769000000000002, 18.462, 15.538, 13.077],\n",
    "            'type': 'pie',\n",
    "            'marker': {'colors': ['#E53935', '#EF5350', '#BDC3C7', '#EF9A9A', '#FFAB91', '#F44336']},\n",
    "            'textinfo': \"label\",\n",
    "            'textposition': \"outside\",\n",
    "             'name': 'Human Affairs',\n",
    "            'hoverinfo': \"value+percent\",\n",
    "           \n",
    "                \n",
    "                }],\n",
    "    'layout': {'title': 'Human Affairs',\n",
    "              'showlegend': False} \n",
    "   \n",
    "}\n",
    "             \n",
    "       \n",
    "\n",
    "py.iplot(fig)"
   ]
  },
  {
   "cell_type": "code",
   "execution_count": 18,
   "metadata": {
    "collapsed": false
   },
   "outputs": [
    {
     "data": {
      "text/html": [
       "<iframe id=\"igraph\" scrolling=\"no\" style=\"border:none;\" seamless=\"seamless\" src=\"https://plot.ly/~eac85/165.embed\" height=\"525px\" width=\"100%\"></iframe>"
      ],
      "text/plain": [
       "<plotly.tools.PlotlyDisplay object>"
      ]
     },
     "execution_count": 18,
     "metadata": {},
     "output_type": "execute_result"
    }
   ],
   "source": [
    "fig = {\n",
    "    'data': [\n",
    "                {\n",
    "            'labels': ['Attractive','Sincere','Intelligent','Fun', 'Ambitious', 'Shared Interests'],\n",
    "            'values': [60, 15, 0, 15, 0, 10],\n",
    "            'type': 'pie',\n",
    "            'marker': {'colors': ['#E53935', '#EF5350', '#BDC3C7', '#EF9A9A', '#FFAB91', '#F44336']},\n",
    "            'textinfo': \"label\",\n",
    "            'textposition': \"outside\",\n",
    "            'name': 'Pro-Athlete',\n",
    "            'hoverinfo': \"value+percent\",\n",
    "                \n",
    "                }],\n",
    "    'layout': {'title': 'Pro Athlete',\n",
    "              'showlegend': False} \n",
    "   \n",
    "}\n",
    "             \n",
    "       \n",
    "\n",
    "py.iplot(fig)"
   ]
  },
  {
   "cell_type": "code",
   "execution_count": 19,
   "metadata": {
    "collapsed": false
   },
   "outputs": [
    {
     "data": {
      "text/html": [
       "<iframe id=\"igraph\" scrolling=\"no\" style=\"border:none;\" seamless=\"seamless\" src=\"https://plot.ly/~eac85/167.embed\" height=\"525px\" width=\"100%\"></iframe>"
      ],
      "text/plain": [
       "<plotly.tools.PlotlyDisplay object>"
      ]
     },
     "execution_count": 19,
     "metadata": {},
     "output_type": "execute_result"
    }
   ],
   "source": [
    "fig = {\n",
    "    'data': [\n",
    "                {\n",
    "            'labels': ['Attractive','Sincere','Intelligent','Fun', 'Ambitious', 'Shared Interests'],\n",
    "            'values': [25, 20, 25, 20, 10, 0],\n",
    "            'type': 'pie',\n",
    "            'marker': {'colors': ['#E53935', '#EF5350', '#BDC3C7', '#EF9A9A', '#FFAB91', '#F44336']},\n",
    "                    'textinfo': \"label\",\n",
    "            'textposition': \"outside\",\n",
    "               'name': 'Tech',\n",
    "            'hoverinfo': \"value+percent\",      \n",
    "           \n",
    "                \n",
    "                }],\n",
    "    'layout': {'title': 'Tech',\n",
    "              'showlegend': False} \n",
    "   \n",
    "}\n",
    "             \n",
    "       \n",
    "\n",
    "py.iplot(fig)"
   ]
  },
  {
   "cell_type": "code",
   "execution_count": 40,
   "metadata": {
    "collapsed": false
   },
   "outputs": [
    {
     "name": "stdout",
     "output_type": "stream",
     "text": [
      "[60, 15, 0, 15, 0, 10]\n"
     ]
    }
   ],
   "source": [
    "print(proathlete)"
   ]
  },
  {
   "cell_type": "code",
   "execution_count": null,
   "metadata": {
    "collapsed": true
   },
   "outputs": [],
   "source": []
  }
 ],
 "metadata": {
  "kernelspec": {
   "display_name": "Python 3",
   "language": "python",
   "name": "python3"
  },
  "language_info": {
   "codemirror_mode": {
    "name": "ipython",
    "version": 3
   },
   "file_extension": ".py",
   "mimetype": "text/x-python",
   "name": "python",
   "nbconvert_exporter": "python",
   "pygments_lexer": "ipython3",
   "version": "3.6.0"
  }
 },
 "nbformat": 4,
 "nbformat_minor": 2
}
